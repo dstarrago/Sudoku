{
 "cells": [
  {
   "cell_type": "markdown",
   "metadata": {},
   "source": [
    "*** Program to Solve Ordinary Sudoku Puzzles ***\n",
    "\n",
    "    by Danel Sanchez Tarrago"
   ]
  },
  {
   "cell_type": "markdown",
   "metadata": {},
   "source": [
    "An ordinary Sudoku is a 9 x 9 grid that needs to be filled with numbers in such a way that each column, each row, and each of the 3 x 3 subgrids or blocks that compose the grid contain all of the digits from 1 to 9. The puzzle starts with a partial filled grid that needs to be completed by the player. "
   ]
  },
  {
   "cell_type": "markdown",
   "metadata": {},
   "source": [
    "The algorithm introduced here to solve sudoku puzzles is a hybrid method that combines logic deduction with a backtracking algorithm. Whenever possible it tries to infere new sudoku numbers by applying deduction rules, that are based on the sudoku constrains, to the numbers already in the grid. When deduction is not possible, a backtraking algorithm searches the space of possible solutions starting with the most feasible cell. When the value of a new cell is found by the backtracking algorithm, the deduction algorithm is applied again to the updated grid to maximize the opportunities to find new sudoku numbers. \n",
    "\n",
    "Most sudoku puzzles can be solve by the algorithm within 7 to 10 recursive backtracking levels. The hardest sudoku puzzles are solve in less than 15 recursive backtracking levels."
   ]
  },
  {
   "cell_type": "markdown",
   "metadata": {},
   "source": [
    "Numpy arrays are used to store and manipulate Sudokus' data"
   ]
  },
  {
   "cell_type": "code",
   "execution_count": 1,
   "metadata": {},
   "outputs": [],
   "source": [
    "import numpy as np"
   ]
  },
  {
   "cell_type": "markdown",
   "metadata": {},
   "source": [
    "An array of strings is used to represent a Sudoku. The array has 9 strings, each one being a 9 character length string representing a row in the Sudoku. Each character in the string can be a number betwen 1-9 or a '-' representing\n",
    "a blank space in the sudoku. This textual representation of a sudoku is intended to facilitate data input. "
   ]
  },
  {
   "cell_type": "markdown",
   "metadata": {},
   "source": [
    "The following matrix (su0) represents a totally empty sudoku. It is used as a template, to facilite the edition of new sudokus. "
   ]
  },
  {
   "cell_type": "code",
   "execution_count": 2,
   "metadata": {},
   "outputs": [],
   "source": [
    "su0 = np.array(['---------',\n",
    "                '---------',\n",
    "                '---------',\n",
    "                '---------',\n",
    "                '---------',\n",
    "                '---------',\n",
    "                '---------',\n",
    "                '---------',\n",
    "                '---------'])"
   ]
  },
  {
   "cell_type": "markdown",
   "metadata": {},
   "source": [
    "The following are some sudoku samples. They are sorted in complexity order: su1 is the easiest, and su7 is the hardest to solve. They can be used to test the program capabilities."
   ]
  },
  {
   "cell_type": "code",
   "execution_count": 3,
   "metadata": {},
   "outputs": [],
   "source": [
    "su1 = np.array(['53--7----',\n",
    "                '6--195---',\n",
    "                '-98----6-',\n",
    "                '8---6---3',\n",
    "                '4--8-3--1',\n",
    "                '7---2---6',\n",
    "                '-6----28-',\n",
    "                '---419--5',\n",
    "                '----8--79'])"
   ]
  },
  {
   "cell_type": "code",
   "execution_count": 4,
   "metadata": {},
   "outputs": [],
   "source": [
    "su2= np.array(['-------18',\n",
    "                '7----9265',\n",
    "                '8-451---9',\n",
    "                '-45872--1',\n",
    "                '---------',\n",
    "                '9--36154-',\n",
    "                '2---947-3',\n",
    "                '4571----2',\n",
    "                '36-------'])"
   ]
  },
  {
   "cell_type": "code",
   "execution_count": 5,
   "metadata": {},
   "outputs": [],
   "source": [
    "su3 = np.array(['----751-2',\n",
    "                '----1-6--',\n",
    "                '-8-----47',\n",
    "                '------4-6',\n",
    "                '15-642-98',\n",
    "                '6-3------',\n",
    "                '42-----7-',\n",
    "                '--5-2----',\n",
    "                '7-945----'])"
   ]
  },
  {
   "cell_type": "code",
   "execution_count": 6,
   "metadata": {},
   "outputs": [],
   "source": [
    "su4 = np.array(['-1--9-28-',\n",
    "                '--8--2--6',\n",
    "                '--7-5--34',\n",
    "                '-----1---',\n",
    "                '---985---',\n",
    "                '---3-----',\n",
    "                '98--6-4--',\n",
    "                '3--8--6--',\n",
    "                '-54-3--1-'])"
   ]
  },
  {
   "cell_type": "code",
   "execution_count": 7,
   "metadata": {},
   "outputs": [],
   "source": [
    "su5 = np.array(['2----5-4-',\n",
    "                '4---26---',\n",
    "                '5---9-8--',\n",
    "                '------9-3',\n",
    "                '-68---17-',\n",
    "                '1-3------',\n",
    "                '--4-5---6',\n",
    "                '---16---5',\n",
    "                '-1-3----8'])"
   ]
  },
  {
   "cell_type": "code",
   "execution_count": 8,
   "metadata": {},
   "outputs": [],
   "source": [
    "su6 = np.array(['---1----4',\n",
    "                '-6-45---9',\n",
    "                '3----2---',\n",
    "                '19--3-6--',\n",
    "                '--2---1--',\n",
    "                '--5-7--28',\n",
    "                '---8----5',\n",
    "                '7---29-8-',\n",
    "                '9----7---'])"
   ]
  },
  {
   "cell_type": "code",
   "execution_count": 9,
   "metadata": {},
   "outputs": [],
   "source": [
    "su7 = np.array(['-461-----',\n",
    "                '------95-',\n",
    "                '7---45--8',\n",
    "                '9---567--',\n",
    "                '---------',\n",
    "                '--179---5',\n",
    "                '4--91---6',\n",
    "                '-93------',\n",
    "                '-----842-'])"
   ]
  },
  {
   "cell_type": "markdown",
   "metadata": {},
   "source": [
    "The getmatrix() function gets a textual representation of a sudoku (txtmat) and converts it in a numeric matrix. Blank spaces are represented as zeros in the output matrix."
   ]
  },
  {
   "cell_type": "code",
   "execution_count": 10,
   "metadata": {},
   "outputs": [],
   "source": [
    "def getmatrix(txtmat):\n",
    "    arr = np.array([np.array(list(row)) for row in txtmat])\n",
    "    arr[arr == '-'] = 0\n",
    "    return arr.astype(int)"
   ]
  },
  {
   "cell_type": "code",
   "execution_count": 25,
   "metadata": {
    "scrolled": true
   },
   "outputs": [
    {
     "data": {
      "text/plain": [
       "array([[0, 4, 6, 1, 0, 0, 0, 0, 0],\n",
       "       [0, 0, 0, 0, 0, 0, 9, 5, 0],\n",
       "       [7, 0, 0, 0, 4, 5, 0, 0, 8],\n",
       "       [9, 0, 0, 0, 5, 6, 7, 0, 0],\n",
       "       [0, 0, 0, 0, 0, 0, 0, 0, 0],\n",
       "       [0, 0, 1, 7, 9, 0, 0, 0, 5],\n",
       "       [4, 0, 0, 9, 1, 0, 0, 0, 6],\n",
       "       [0, 9, 3, 0, 0, 0, 0, 0, 0],\n",
       "       [0, 0, 0, 0, 0, 8, 4, 2, 0]])"
      ]
     },
     "execution_count": 25,
     "metadata": {},
     "output_type": "execute_result"
    }
   ],
   "source": [
    "m7 = getmatrix(su7)\n",
    "m7"
   ]
  },
  {
   "cell_type": "markdown",
   "metadata": {},
   "source": [
    "The gettraces() function returns a 9x9 matrix where each cell contains the list of possible values for the corresponding cell in the sudoku grid. A possible value for a cell is one in the range 1 to 9, that is not currently present in the row, nor in the column, and neither in the subgrid the cell belongs to.\n"
   ]
  },
  {
   "cell_type": "code",
   "execution_count": 11,
   "metadata": {},
   "outputs": [],
   "source": [
    "def gettraces(arr):\n",
    "    candidates = np.empty((3, 3), dtype=list)\n",
    "    traces = np.empty((9, 9), dtype=list)\n",
    "    for r in range(3):\n",
    "        for c in range(3):\n",
    "            block = arr[r*3:r*3+3, c*3:c*3+3].ravel()\n",
    "            candidates[r, c] = np.setdiff1d(np.arange(1, 10), block[np.nonzero(block)]).tolist()\n",
    "    for ri in range(9):\n",
    "        hornonzero = arr[ri,:][np.nonzero(arr[ri,:])]\n",
    "        can_row = int(ri/3)\n",
    "        for ci in range(9):\n",
    "            if arr[ri, ci] == 0:\n",
    "                vernonzero = arr[:,ci][np.nonzero(arr[:,ci])]\n",
    "                can_col = int(ci/3)\n",
    "                hor = np.setdiff1d(candidates[can_row, can_col], hornonzero)\n",
    "                ver = np.setdiff1d(candidates[can_row, can_col], vernonzero)\n",
    "                traces[ri, ci] = np.intersect1d(hor, ver).tolist()\n",
    "            else:\n",
    "                traces[ri, ci] = [arr[ri, ci]]\n",
    "    return traces"
   ]
  },
  {
   "cell_type": "code",
   "execution_count": 27,
   "metadata": {},
   "outputs": [
    {
     "data": {
      "text/plain": [
       "array([[list([2, 3, 5, 8]), list([4]), list([6]), list([1]),\n",
       "        list([2, 3, 7, 8]), list([2, 3, 7, 9]), list([2, 3]),\n",
       "        list([3, 7]), list([2, 3, 7])],\n",
       "       [list([1, 2, 3, 8]), list([1, 2, 3, 8]), list([2, 8]),\n",
       "        list([2, 3, 6, 8]), list([2, 3, 6, 7, 8]), list([2, 3, 7]),\n",
       "        list([9]), list([5]), list([1, 2, 3, 4, 7])],\n",
       "       [list([7]), list([1, 2, 3]), list([2, 9]), list([2, 3, 6]),\n",
       "        list([4]), list([5]), list([1, 2, 3, 6]), list([1, 3, 6]),\n",
       "        list([8])],\n",
       "       [list([9]), list([2, 3, 8]), list([2, 4, 8]), list([2, 3, 4, 8]),\n",
       "        list([5]), list([6]), list([7]), list([1, 3, 4, 8]),\n",
       "        list([1, 2, 3, 4])],\n",
       "       [list([2, 3, 5, 6, 8]), list([2, 3, 5, 6, 7, 8]),\n",
       "        list([2, 4, 5, 7, 8]), list([2, 3, 4, 8]), list([2, 3, 8]),\n",
       "        list([1, 2, 3, 4]), list([1, 2, 3, 6, 8]),\n",
       "        list([1, 3, 4, 6, 8, 9]), list([1, 2, 3, 4, 9])],\n",
       "       [list([2, 3, 6, 8]), list([2, 3, 6, 8]), list([1]), list([7]),\n",
       "        list([9]), list([2, 3, 4]), list([2, 3, 6, 8]),\n",
       "        list([3, 4, 6, 8]), list([5])],\n",
       "       [list([4]), list([2, 5, 7, 8]), list([2, 5, 7, 8]), list([9]),\n",
       "        list([1]), list([2, 3, 7]), list([3, 5, 8]), list([3, 7, 8]),\n",
       "        list([6])],\n",
       "       [list([1, 2, 5, 6, 8]), list([9]), list([3]), list([2, 4, 5, 6]),\n",
       "        list([2, 6, 7]), list([2, 4, 7]), list([1, 5, 8]),\n",
       "        list([1, 7, 8]), list([1, 7])],\n",
       "       [list([1, 5, 6]), list([1, 5, 6, 7]), list([5, 7]),\n",
       "        list([3, 5, 6]), list([3, 6, 7]), list([8]), list([4]),\n",
       "        list([2]), list([1, 3, 7, 9])]], dtype=object)"
      ]
     },
     "execution_count": 27,
     "metadata": {},
     "output_type": "execute_result"
    }
   ],
   "source": [
    "tr7 = gettraces(m7)\n",
    "tr7"
   ]
  },
  {
   "cell_type": "markdown",
   "metadata": {},
   "source": [
    "If a cell in the trace Matrix has only one possible value, that possible value is the correct value for the corresponding cell in the sudoku grid. The derive() function receives a trace matrix as a parameter, and returns a sudoku grid filled with a number corresponding to every single-element list in the trace matrix. \n"
   ]
  },
  {
   "cell_type": "code",
   "execution_count": 12,
   "metadata": {},
   "outputs": [],
   "source": [
    "def derive(tr):\n",
    "    R = np.zeros((9,9), dtype=int)\n",
    "    for ri in range(9):\n",
    "        for ci in range(9):\n",
    "            if len(tr[ri, ci]) == 1:\n",
    "                R[ri, ci] = tr[ri, ci][0]\n",
    "    return R"
   ]
  },
  {
   "cell_type": "markdown",
   "metadata": {},
   "source": [
    "The solvesteps() function informs the number of cells that remains to be solve."
   ]
  },
  {
   "cell_type": "code",
   "execution_count": 13,
   "metadata": {},
   "outputs": [],
   "source": [
    "def solvesteps(m):\n",
    "    return m.shape[0] * m.shape[1] - np.count_nonzero(m)"
   ]
  },
  {
   "cell_type": "markdown",
   "metadata": {},
   "source": [
    "The is_ok() function determines if the array arr is a valid sudoku array, i.e., if it complies with the sudoku rules."
   ]
  },
  {
   "cell_type": "code",
   "execution_count": 15,
   "metadata": {},
   "outputs": [],
   "source": [
    "def is_ok(arr):\n",
    "    for row in arr:\n",
    "        nonzero_vals = row[np.nonzero(row)]\n",
    "        if nonzero_vals.size > np.unique(nonzero_vals).size: return False\n",
    "    for col_ind in range(9):\n",
    "        nonzero_vals = arr[:,col_ind][np.nonzero(arr[:,col_ind])]\n",
    "        if nonzero_vals.size > np.unique(nonzero_vals).size: return False\n",
    "    return True"
   ]
  },
  {
   "cell_type": "markdown",
   "metadata": {},
   "source": [
    "The reduce() function calls gettraces() interatively, each time using as parameter the sudoku grid derived from the previous gettraces()'s outcome. In this way, each new sudoku cell number discovered by gettraces() is used in a next step to reduce the number of possible values for each cell and eventually discover new sudoku cell numbers. The iteration ends when no new sudoku number is discover."
   ]
  },
  {
   "cell_type": "code",
   "execution_count": 14,
   "metadata": {},
   "outputs": [],
   "source": [
    "def reduce(arr, trace=False):\n",
    "    a = np.array(arr, dtype=int)\n",
    "    prev_steps = a.shape[0] * a.shape[1]\n",
    "    steps = solvesteps(a)\n",
    "    while steps < prev_steps:\n",
    "        tr = gettraces(a)\n",
    "        a = derive(tr)\n",
    "        prev_steps = steps\n",
    "        steps = solvesteps(a)\n",
    "    if trace:\n",
    "        return a, tr\n",
    "    else:\n",
    "        return a"
   ]
  },
  {
   "cell_type": "markdown",
   "metadata": {},
   "source": [
    "The opportunities() function computes a 9 x 9 matrix where each cell x in this matrix contains the sum of possible values of all the cells in the row, the column, and the subgrid the cell x belongs to. The lesser the sum the easier to find the sudoku number corresponding to that cell because it that means there is a smaller number of solutions to try on. "
   ]
  },
  {
   "cell_type": "code",
   "execution_count": 16,
   "metadata": {},
   "outputs": [],
   "source": [
    "def opportunities(trace):\n",
    "    lenarr = np.array([len(w) for w in trace.flat]).reshape(9, 9)\n",
    "    opp = np.full_like(lenarr, 1000, dtype=int)\n",
    "    col_sum = np.sum(lenarr, axis=0)\n",
    "    row_sum = np.sum(lenarr, axis=1)\n",
    "    block_sum = np.empty((3, 3), dtype=int)\n",
    "    for r in range(3):\n",
    "        for c in range(3):\n",
    "            block = lenarr[r*3:r*3+3, c*3:c*3+3].ravel()\n",
    "            block_sum[r, c] = np.sum(block)\n",
    "    for ri in range(9):\n",
    "        block_row = int(ri/3)\n",
    "        for ci in range(9):\n",
    "            block_col = int(ci/3)\n",
    "            if lenarr[ri, ci] > 1: opp[ri, ci] = col_sum[ci] + row_sum[ri] + block_sum[block_row, block_col]\n",
    "    return opp"
   ]
  },
  {
   "cell_type": "markdown",
   "metadata": {},
   "source": [
    "The bestchoice() function returns the coordinates of the cell that has a smaller number of possibilities to try on. This cell is the best place to beginning the exploration of the solution space."
   ]
  },
  {
   "cell_type": "code",
   "execution_count": 17,
   "metadata": {},
   "outputs": [],
   "source": [
    "def bestchoice(trace):\n",
    "    opp = opportunities(trace)\n",
    "    n = opp.argmin()\n",
    "    row = int(n/9)\n",
    "    col = n%9\n",
    "    return (row, col)"
   ]
  },
  {
   "cell_type": "markdown",
   "metadata": {},
   "source": [
    "solvematrix() is a recursive function that explores the solution space using a best-first aproach. It first tries to deduce as many sudoku numbers as possible by using the function reduce(). If the resulting matrix is not a valid solution, the function backtracks and look for another solution. If all the cells have been found, the function returns with the right solution. In other case, the function continues by choosing the best cell and cycles through the list of possible values of that cell. For each value, a copy of the sudoku matrix is made and the value inserted on it. Then, solvematrix() function is called recursively on the updated copy of the matrix. In the next iteration of the recursive function, the new added value is used to deduce new sudoku numbers."
   ]
  },
  {
   "cell_type": "code",
   "execution_count": 18,
   "metadata": {},
   "outputs": [],
   "source": [
    "def solvematrix(matrix, step, maxdepth):\n",
    "    reduced, traced = reduce(matrix, trace=True)\n",
    "    if not is_ok(reduced): return False, None\n",
    "    if solvesteps(reduced) == 0: return True, reduced\n",
    "    else:\n",
    "        if step < maxdepth:\n",
    "            (row, col) = bestchoice(traced)\n",
    "            for w in traced[row, col]:\n",
    "                nextmatrix = reduced.copy()\n",
    "                nextmatrix[row, col] = w\n",
    "                result, solution = solvematrix(nextmatrix, step+1, maxdepth)\n",
    "                if result: return True, solution\n",
    "        return False, None"
   ]
  },
  {
   "cell_type": "markdown",
   "metadata": {},
   "source": [
    "The solve() function is used as the interface with the algorithm. It is the function to be called by the user to solve the sodoku puzzle. It sets up and starts the recursive function solvematrix(). "
   ]
  },
  {
   "cell_type": "code",
   "execution_count": 19,
   "metadata": {},
   "outputs": [],
   "source": [
    "def solve(sudoku, maxdepth=15):\n",
    "    matrix = getmatrix(sudoku)\n",
    "    result, solution = solvematrix(matrix, 1, maxdepth)\n",
    "    if result:\n",
    "        return solution\n",
    "    else:\n",
    "        return None"
   ]
  },
  {
   "cell_type": "code",
   "execution_count": 20,
   "metadata": {},
   "outputs": [
    {
     "data": {
      "text/plain": [
       "array([[5, 4, 6, 1, 8, 9, 2, 3, 7],\n",
       "       [3, 1, 8, 6, 7, 2, 9, 5, 4],\n",
       "       [7, 2, 9, 3, 4, 5, 1, 6, 8],\n",
       "       [9, 3, 4, 8, 5, 6, 7, 1, 2],\n",
       "       [6, 7, 5, 4, 2, 1, 8, 9, 3],\n",
       "       [2, 8, 1, 7, 9, 3, 6, 4, 5],\n",
       "       [4, 5, 2, 9, 1, 7, 3, 8, 6],\n",
       "       [8, 9, 3, 2, 6, 4, 5, 7, 1],\n",
       "       [1, 6, 7, 5, 3, 8, 4, 2, 9]])"
      ]
     },
     "execution_count": 20,
     "metadata": {},
     "output_type": "execute_result"
    }
   ],
   "source": [
    "solve(su7)"
   ]
  }
 ],
 "metadata": {
  "celltoolbar": "Raw Cell Format",
  "kernelspec": {
   "display_name": "Python 3",
   "language": "python",
   "name": "python3"
  },
  "language_info": {
   "codemirror_mode": {
    "name": "ipython",
    "version": 3
   },
   "file_extension": ".py",
   "mimetype": "text/x-python",
   "name": "python",
   "nbconvert_exporter": "python",
   "pygments_lexer": "ipython3",
   "version": "3.7.4"
  }
 },
 "nbformat": 4,
 "nbformat_minor": 2
}
